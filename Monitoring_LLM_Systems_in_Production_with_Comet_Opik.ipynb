{
  "nbformat": 4,
  "nbformat_minor": 0,
  "metadata": {
    "colab": {
      "provenance": [],
      "include_colab_link": true
    },
    "kernelspec": {
      "name": "python3",
      "display_name": "Python 3"
    },
    "language_info": {
      "name": "python"
    }
  },
  "cells": [
    {
      "cell_type": "markdown",
      "metadata": {
        "id": "view-in-github",
        "colab_type": "text"
      },
      "source": [
        "<a href=\"https://colab.research.google.com/github/statisticianinstilettos/ClaireBot/blob/main/Monitoring_LLM_Systems_in_Production_with_Comet_Opik.ipynb\" target=\"_parent\"><img src=\"https://colab.research.google.com/assets/colab-badge.svg\" alt=\"Open In Colab\"/></a>"
      ]
    },
    {
      "cell_type": "markdown",
      "source": [
        "#LLM Observability and Monitoring Tutorial with my Recipe Generator App\n",
        "\n",
        "This example personal project is designed to practice establishing proper montioring best practices for a live LLM app. In this tutorial, I'll walk you through how to build a very simple yet powerful LLM app, and show how to design the monitoring metrics and dashboards to facilitate detecting and root causing issues that might arise in production.\n"
      ],
      "metadata": {
        "id": "4nBkLEnK2yT1"
      }
    },
    {
      "cell_type": "markdown",
      "source": [
        "## Preparing our environment\n",
        "\n",
        "First, we will install the required libraries and set up our OpenAI API keys. Check out Opik config parameters here: https://www.comet.com/docs/opik/tracing/sdk_configuration"
      ],
      "metadata": {
        "id": "2eWfFnAJ4iRx"
      }
    },
    {
      "cell_type": "code",
      "source": [
        "%pip install -U opik openai --quiet"
      ],
      "metadata": {
        "id": "m080q6EML_Zr",
        "colab": {
          "base_uri": "https://localhost:8080/"
        },
        "outputId": "cec0c636-c5bd-4d5c-f91e-e675ac22d440"
      },
      "execution_count": null,
      "outputs": [
        {
          "output_type": "stream",
          "name": "stdout",
          "text": [
            "\u001b[?25l   \u001b[90m━━━━━━━━━━━━━━━━━━━━━━━━━━━━━━━━━━━━━━━━\u001b[0m \u001b[32m0.0/371.3 kB\u001b[0m \u001b[31m?\u001b[0m eta \u001b[36m-:--:--\u001b[0m\r\u001b[2K   \u001b[90m━━━━━━━━━━━━━━━━━━━━━━━━━━━━━━━━━━━━━━━━\u001b[0m \u001b[32m371.3/371.3 kB\u001b[0m \u001b[31m11.4 MB/s\u001b[0m eta \u001b[36m0:00:00\u001b[0m\n",
            "\u001b[?25h\u001b[?25l   \u001b[90m━━━━━━━━━━━━━━━━━━━━━━━━━━━━━━━━━━━━━━━━\u001b[0m \u001b[32m0.0/463.1 kB\u001b[0m \u001b[31m?\u001b[0m eta \u001b[36m-:--:--\u001b[0m\r\u001b[2K   \u001b[90m━━━━━━━━━━━━━━━━━━━━━━━━━━━━━━━━━━━━━━━━\u001b[0m \u001b[32m463.1/463.1 kB\u001b[0m \u001b[31m28.0 MB/s\u001b[0m eta \u001b[36m0:00:00\u001b[0m\n",
            "\u001b[?25h\u001b[?25l   \u001b[90m━━━━━━━━━━━━━━━━━━━━━━━━━━━━━━━━━━━━━━━━\u001b[0m \u001b[32m0.0/162.7 kB\u001b[0m \u001b[31m?\u001b[0m eta \u001b[36m-:--:--\u001b[0m\r\u001b[2K   \u001b[90m━━━━━━━━━━━━━━━━━━━━━━━━━━━━━━━━━━━━━━━━\u001b[0m \u001b[32m162.7/162.7 kB\u001b[0m \u001b[31m14.1 MB/s\u001b[0m eta \u001b[36m0:00:00\u001b[0m\n",
            "\u001b[2K   \u001b[90m━━━━━━━━━━━━━━━━━━━━━━━━━━━━━━━━━━━━━━━━\u001b[0m \u001b[32m6.8/6.8 MB\u001b[0m \u001b[31m72.9 MB/s\u001b[0m eta \u001b[36m0:00:00\u001b[0m\n",
            "\u001b[2K   \u001b[90m━━━━━━━━━━━━━━━━━━━━━━━━━━━━━━━━━━━━━━━━\u001b[0m \u001b[32m3.1/3.1 MB\u001b[0m \u001b[31m61.7 MB/s\u001b[0m eta \u001b[36m0:00:00\u001b[0m\n",
            "\u001b[2K   \u001b[90m━━━━━━━━━━━━━━━━━━━━━━━━━━━━━━━━━━━━━━━━\u001b[0m \u001b[32m1.2/1.2 MB\u001b[0m \u001b[31m46.1 MB/s\u001b[0m eta \u001b[36m0:00:00\u001b[0m\n",
            "\u001b[?25h"
          ]
        }
      ]
    },
    {
      "cell_type": "code",
      "source": [
        "import opik\n",
        "\n",
        "opik.configure(use_local=False)"
      ],
      "metadata": {
        "id": "7uIKdRLv5ueg",
        "colab": {
          "base_uri": "https://localhost:8080/"
        },
        "outputId": "4fe55ff6-9bdb-44d0-e10f-495f635b411c"
      },
      "execution_count": null,
      "outputs": [
        {
          "output_type": "stream",
          "name": "stderr",
          "text": [
            "OPIK: Your Opik API key is available in your account settings, can be found at https://www.comet.com/api/my/settings/ for Opik cloud\n"
          ]
        },
        {
          "name": "stdout",
          "output_type": "stream",
          "text": [
            "Please enter your Opik API key:··········\n",
            "Do you want to use \"statisticianinstilettos\" workspace? (Y/n)Y\n"
          ]
        },
        {
          "output_type": "stream",
          "name": "stderr",
          "text": [
            "OPIK: Configuration saved to file: /root/.opik.config\n"
          ]
        }
      ]
    },
    {
      "cell_type": "code",
      "source": [
        "import os\n",
        "import getpass\n",
        "\n",
        "if \"OPENAI_API_KEY\" not in os.environ:\n",
        "    os.environ[\"OPENAI_API_KEY\"] = getpass.getpass(\"Enter your OpenAI API key: \")"
      ],
      "metadata": {
        "colab": {
          "base_uri": "https://localhost:8080/"
        },
        "id": "5AjvhiY_4hug",
        "outputId": "770ee43f-f5bf-4475-8055-331bc1f416a4"
      },
      "execution_count": null,
      "outputs": [
        {
          "name": "stdout",
          "output_type": "stream",
          "text": [
            "Enter your OpenAI API key: ··········\n"
          ]
        }
      ]
    },
    {
      "cell_type": "code",
      "source": [
        "from opik import track, opik_context\n",
        "from opik.integrations.openai import track_openai\n",
        "from openai import OpenAI\n",
        "\n",
        "os.environ[\"OPIK_PROJECT_NAME\"] = \"recipe-generator\"\n",
        "\n",
        "client = OpenAI()\n",
        "openai_client = track_openai(client)"
      ],
      "metadata": {
        "id": "sXjEXs245jH2"
      },
      "execution_count": null,
      "outputs": []
    },
    {
      "cell_type": "markdown",
      "source": [
        "# Building a simple recipe generator\n",
        "\n",
        "I'm using the OpenAI API to generate a response, and Opik to track and evaluate it."
      ],
      "metadata": {
        "id": "43lvGsyuhd18"
      }
    },
    {
      "cell_type": "code",
      "source": [
        "#This function performs the API call to openAI to request the recipe based on the prompt. Simply enter the dish name!\n",
        "#Because I'm using a function, I'm using the Opik @track decorator to log my traces.\n",
        "\n",
        "@opik.track(flush=True)\n",
        "def generate_recipe(dish_name):\n",
        "\n",
        "    prompt = f\"\"\"\n",
        "    You are a world-class home chef and recipe developer. Generate a step-by-step recipe for {dish_name}.\n",
        "    Include a list of ingredients with quantities, clear cooking instructions, preparation time, cooking time, and serving size.\n",
        "    If applicable, provide useful tips, optional variations, or suggestions for substitutes.\n",
        "    Keep the recipe straightforward and easy to follow for a novice at home cook.\n",
        "    \"\"\"\n",
        "\n",
        "    # Request recipe generation from OpenAI's completions model\n",
        "    response = openai_client.chat.completions.create(\n",
        "        model=\"gpt-3.5-turbo\",\n",
        "        messages=[\n",
        "            {\"role\": \"system\", \"content\": \"You are a world-class chef and recipe developer.\"},  # system message\n",
        "            {\"role\": \"user\", \"content\": prompt}  # User's input prompt\n",
        "        ],\n",
        "        max_tokens=500,\n",
        "        temperature=0.7,\n",
        "        n=1\n",
        "    )\n",
        "\n",
        "    # Add user feedback score to the trace in Opik\n",
        "    opik_context.update_current_trace(\n",
        "    feedback_scores=[\n",
        "        {\"name\": \"user_feedback\", \"value\": 1.0, \"reason\": \"It looks good.\"}\n",
        "        ]\n",
        "    )\n",
        "\n",
        "    return response\n",
        "\n"
      ],
      "metadata": {
        "id": "o-A0UR8nKEuT"
      },
      "execution_count": null,
      "outputs": []
    },
    {
      "cell_type": "code",
      "source": [
        "# Example usage\n",
        "dish_name = \"red velet cupcakes\"\n",
        "recipe = generate_recipe(dish_name)\n",
        "\n",
        "#extract just the recipe text and print\n",
        "print(recipe.choices[0].to_dict()['message']['content'])"
      ],
      "metadata": {
        "colab": {
          "base_uri": "https://localhost:8080/"
        },
        "id": "8IGA3UzhLlS5",
        "outputId": "6e238873-5148-4484-ea34-fa5fc8bcf1ad"
      },
      "execution_count": null,
      "outputs": [
        {
          "output_type": "stream",
          "name": "stderr",
          "text": [
            "OPIK: Started logging traces to the \"recipe-generator\" project at https://www.comet.com/opik/statisticianinstilettos/redirect/projects?name=recipe-generator.\n"
          ]
        },
        {
          "output_type": "stream",
          "name": "stdout",
          "text": [
            "**Cheddar Dill Biscuits**\n",
            "\n",
            "**Ingredients:**\n",
            "- 4 cups all-purpose flour\n",
            "- 1 packet instant yeast\n",
            "- 3 large eggs\n",
            "- 1 cup milk\n",
            "- 1 cup melted butter\n",
            "- 1 cup shredded cheddar cheese\n",
            "- 2 tablespoons dried dill\n",
            "- 1 teaspoon salt\n",
            "\n",
            "**Instructions:**\n",
            "\n",
            "**Preparation Time:** 20 minutes\n",
            "**Cooking Time:** 15-20 minutes\n",
            "**Serving Size:** 12 biscuits\n",
            "\n",
            "1. Preheat your oven to 375°F (190°C) and line a baking sheet with parchment paper.\n",
            "   \n",
            "2. In a large mixing bowl, combine the flour, instant yeast, shredded cheddar cheese, dried dill, and salt. Mix well to combine all the dry ingredients.\n",
            "\n",
            "3. In a separate bowl, whisk together the eggs, milk, and melted butter until well combined.\n",
            "\n",
            "4. Make a well in the center of the dry ingredients and pour the wet mixture into it. Use a spatula to gently fold the wet and dry ingredients together until a soft dough forms. Do not overmix.\n",
            "\n",
            "5. Turn the dough out onto a lightly floured surface and gently knead it a few times until it comes together.\n",
            "\n",
            "6. Roll out the dough to about 1-inch thickness. Use a round cookie cutter or a glass to cut out biscuits from the dough.\n",
            "\n",
            "7. Place the biscuits on the prepared baking sheet, leaving a little space between each one.\n",
            "\n",
            "8. Bake in the preheated oven for 15-20 minutes, or until the biscuits are golden brown and cooked through.\n",
            "\n",
            "9. Remove the biscuits from the oven and let them cool slightly before serving.\n",
            "\n",
            "**Tips:**\n",
            "- Be gentle when mixing and kneading the dough to ensure a light and fluffy texture.\n",
            "- Feel free to add more cheese or dill according to your taste preference.\n",
            "- Serve the biscuits warm with butter or your favorite spread.\n",
            "\n",
            "Enjoy your delicious homemade Cheddar Dill Biscuits that are reminiscent of the ones served at Red Lobster!\n"
          ]
        }
      ]
    }
  ]
}